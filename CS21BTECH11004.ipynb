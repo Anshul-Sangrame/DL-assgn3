{
  "cells": [
    {
      "cell_type": "markdown",
      "metadata": {
        "id": "view-in-github",
        "colab_type": "text"
      },
      "source": [
        "<a href=\"https://colab.research.google.com/github/Anshul-Sangrame/DL-assgn3/blob/main/CS21BTECH11004.ipynb\" target=\"_parent\"><img src=\"https://colab.research.google.com/assets/colab-badge.svg\" alt=\"Open In Colab\"/></a>"
      ]
    },
    {
      "cell_type": "markdown",
      "source": [
        "# AI5100 Assignment 3\n",
        "\n",
        "**Name**: Anshul Sangrame\n",
        "\n",
        "**Roll Number**: CS21BTECH11004"
      ],
      "metadata": {
        "id": "VSBnPrS4udPq"
      }
    },
    {
      "cell_type": "code",
      "execution_count": null,
      "metadata": {
        "id": "JDYglvxMyJgh"
      },
      "outputs": [],
      "source": [
        "import torch\n",
        "from torch import nn\n",
        "from torch.nn import functional as F\n",
        "from torch.utils.data import DataLoader\n",
        "from torchvision import datasets\n",
        "from torchvision.transforms import ToTensor\n",
        "import matplotlib.pyplot as plt\n",
        "import numpy as np"
      ]
    },
    {
      "cell_type": "markdown",
      "metadata": {
        "id": "CPWa6hBWypDe"
      },
      "source": [
        "# Selecting Device\n",
        "\n"
      ]
    },
    {
      "cell_type": "code",
      "execution_count": null,
      "metadata": {
        "colab": {
          "base_uri": "https://localhost:8080/"
        },
        "id": "ApA_FJUhwFfk",
        "outputId": "dfc546cf-d6a7-497a-d52e-ed0df0ae970e"
      },
      "outputs": [
        {
          "name": "stdout",
          "output_type": "stream",
          "text": [
            "Using cuda device\n"
          ]
        }
      ],
      "source": [
        "device = (\n",
        "    \"cuda\"\n",
        "    if torch.cuda.is_available()\n",
        "    else \"mps\"\n",
        "    if torch.backends.mps.is_available()\n",
        "    else \"cpu\"\n",
        ")\n",
        "print(f\"Using {device} device\")"
      ]
    },
    {
      "cell_type": "markdown",
      "metadata": {
        "id": "8udLINYVCUgu"
      },
      "source": [
        "# Data loader"
      ]
    },
    {
      "cell_type": "code",
      "execution_count": null,
      "metadata": {
        "colab": {
          "base_uri": "https://localhost:8080/"
        },
        "id": "0QB2VKjKX0ja",
        "outputId": "689d4e03-7c42-4067-f88f-ed472f557cd1"
      },
      "outputs": [
        {
          "name": "stdout",
          "output_type": "stream",
          "text": [
            "Downloading https://www.cs.toronto.edu/~kriz/cifar-10-python.tar.gz to /data/cifar-10-python.tar.gz\n"
          ]
        },
        {
          "name": "stderr",
          "output_type": "stream",
          "text": [
            "100%|██████████| 170498071/170498071 [00:05<00:00, 29178561.87it/s]\n"
          ]
        },
        {
          "name": "stdout",
          "output_type": "stream",
          "text": [
            "Extracting /data/cifar-10-python.tar.gz to /data\n"
          ]
        },
        {
          "data": {
            "text/plain": [
              "50000"
            ]
          },
          "execution_count": 3,
          "metadata": {},
          "output_type": "execute_result"
        }
      ],
      "source": [
        "train_data = datasets.CIFAR10('/data',download=True,transform=ToTensor())\n",
        "\n",
        "train_data.__len__()"
      ]
    },
    {
      "cell_type": "code",
      "execution_count": null,
      "metadata": {
        "colab": {
          "base_uri": "https://localhost:8080/"
        },
        "id": "x7BY3yOCaZNb",
        "outputId": "f8ee0c07-5077-48af-f475-c229e098f1a7"
      },
      "outputs": [
        {
          "name": "stdout",
          "output_type": "stream",
          "text": [
            "Files already downloaded and verified\n"
          ]
        },
        {
          "data": {
            "text/plain": [
              "10000"
            ]
          },
          "execution_count": 4,
          "metadata": {},
          "output_type": "execute_result"
        }
      ],
      "source": [
        "test_data = datasets.CIFAR10('/data',train=False,download=True,transform=ToTensor())\n",
        "\n",
        "test_data.__len__()"
      ]
    },
    {
      "cell_type": "code",
      "execution_count": null,
      "metadata": {
        "colab": {
          "base_uri": "https://localhost:8080/"
        },
        "id": "dGOaOgrYaiMe",
        "outputId": "a29af19b-a02b-4b88-dc09-83aad4e3760a"
      },
      "outputs": [
        {
          "name": "stdout",
          "output_type": "stream",
          "text": [
            "Shape of X [N, C, H, W]: torch.Size([100, 3, 32, 32])\n",
            "Shape of y: torch.Size([100]) torch.int64\n"
          ]
        }
      ],
      "source": [
        "train_dataloader = DataLoader(train_data, batch_size=100, shuffle=True)\n",
        "test_dataloader = DataLoader(test_data, batch_size=100, shuffle=True)\n",
        "\n",
        "for X, y in train_dataloader:\n",
        "    print(f\"Shape of X [N, C, H, W]: {X.shape}\")\n",
        "    print(f\"Shape of y: {y.shape} {y.dtype}\")\n",
        "    break"
      ]
    },
    {
      "cell_type": "markdown",
      "metadata": {
        "id": "OuLbindjCYvi"
      },
      "source": [
        "# Model trainer"
      ]
    },
    {
      "cell_type": "code",
      "execution_count": null,
      "metadata": {
        "id": "21l0n8Gja9J_"
      },
      "outputs": [],
      "source": [
        "def train_one_epoch(model,dataloader,loss_fn,optimizer):\n",
        "    size = len(dataloader.dataset)\n",
        "    num_batches = len(dataloader)\n",
        "    model.train()\n",
        "    train_loss, correct = 0,0\n",
        "    for batch, (X, y) in enumerate(dataloader):\n",
        "        X, y = X.to(device), y.to(device)\n",
        "\n",
        "        # Compute prediction error\n",
        "        pred = model(X)\n",
        "        loss = loss_fn(pred, y)\n",
        "        train_loss += loss.item()\n",
        "        correct += (pred.argmax(1) == y).type(torch.float).sum().item()\n",
        "        # Backpropagation\n",
        "        loss.backward()\n",
        "        optimizer.step()\n",
        "        optimizer.zero_grad()\n",
        "\n",
        "        if batch % 100 == (100-1):\n",
        "            loss, current = loss.item(), (batch + 1) * len(X)\n",
        "            print(f\"loss: {loss:>7f}  [{current:>5d}/{size:>5d}]\")\n",
        "    train_loss /= num_batches\n",
        "    correct /= size\n",
        "    print(f\"Train Error: \\n Accuracy: {(100*correct):>0.1f}%, Avg loss: {train_loss:>8f} \\n\")\n",
        "    return train_loss,correct\n",
        "\n",
        "def test_one_epoch(model,dataloader,loss_fn):\n",
        "    size = len(dataloader.dataset)\n",
        "    num_batches = len(dataloader)\n",
        "    model.eval()\n",
        "    test_loss, correct = 0, 0\n",
        "    with torch.no_grad():\n",
        "        for X, y in dataloader:\n",
        "            X, y = X.to(device), y.to(device)\n",
        "            pred = model(X)\n",
        "            test_loss += loss_fn(pred, y).item()\n",
        "            correct += (pred.argmax(1) == y).type(torch.float).sum().item()\n",
        "    test_loss /= num_batches\n",
        "    correct /= size\n",
        "    print(f\"Test Error: \\n Accuracy: {(100*correct):>0.1f}%, Avg loss: {test_loss:>8f} \\n\")\n",
        "    return test_loss,correct\n",
        "\n",
        "def train_model(model,train_dataloader,test_dataloader,epoch,lr=1e-3):\n",
        "  train_loss_hist = []\n",
        "  train_acc_hist = []\n",
        "  test_loss_hist = []\n",
        "  test_acc_hist = []\n",
        "\n",
        "  loss_fn = nn.CrossEntropyLoss()\n",
        "  # optimizer = torch.optim.SGD(model.parameters(), lr)\n",
        "  optimizer = torch.optim.SGD(model.parameters(), momentum=0.9, nesterov=True)\n",
        "\n",
        "  for i in range(int(epoch)):\n",
        "    print(f\"Epoch {i+1}\\n-------------------------------\")\n",
        "    train_loss, train_acc = train_one_epoch(model,train_dataloader,loss_fn,optimizer)\n",
        "    test_loss, test_acc = test_one_epoch(model,test_dataloader,loss_fn)\n",
        "\n",
        "    train_loss_hist.append(train_loss)\n",
        "    test_loss_hist.append(test_loss)\n",
        "    train_acc_hist.append(train_acc)\n",
        "    test_acc_hist.append(test_acc)\n",
        "\n",
        "  x = range(1,epoch+1)\n",
        "  # Plot loss curve\n",
        "  fig, axs = plt.subplots(2)\n",
        "  axs[0].plot(x, train_loss_hist,label=\"Training\")\n",
        "  axs[0].plot(x, test_loss_hist,label=\"Validation\")\n",
        "  axs[0].grid()\n",
        "  axs[0].set_xlabel('Epoch')\n",
        "  axs[0].set_ylabel('Loss')\n",
        "  axs[0].legend()\n",
        "\n",
        "  # Plot accuracy curve\n",
        "  axs[1].plot(x, train_acc_hist,label=\"Training\")\n",
        "  axs[1].plot(x, test_acc_hist,label=\"Validation\")\n",
        "  axs[1].grid()\n",
        "  axs[1].set_xlabel('Epoch')\n",
        "  axs[1].set_ylabel('Accuracy')\n",
        "  axs[1].legend()\n",
        "\n",
        "  fig.suptitle('Learning Curves')\n",
        "  fig.tight_layout()\n",
        "  fig.show()\n",
        "\n",
        "  return train_loss_hist,test_loss_hist,train_acc_hist,test_acc_hist"
      ]
    },
    {
      "cell_type": "markdown",
      "metadata": {
        "id": "zwgUcqT5_YCJ"
      },
      "source": [
        "# Function to find number of parameters"
      ]
    },
    {
      "cell_type": "code",
      "execution_count": null,
      "metadata": {
        "id": "15jayr-6_c2S"
      },
      "outputs": [],
      "source": [
        "def num_parameters(model):\n",
        "  return sum(p.numel() for p in model.parameters() if p.requires_grad)"
      ]
    },
    {
      "cell_type": "markdown",
      "metadata": {
        "id": "gi-iR5s7rCDL"
      },
      "source": [
        "# Part-1"
      ]
    },
    {
      "cell_type": "markdown",
      "metadata": {
        "id": "kORWfQO4rFRO"
      },
      "source": [
        "## Self-attention 2D module"
      ]
    },
    {
      "cell_type": "code",
      "execution_count": null,
      "metadata": {
        "id": "FdSfIvOI_Ytz"
      },
      "outputs": [],
      "source": [
        "class SA_2D(nn.Module):\n",
        "  def __init__(self,in_channels,qkv_channels):\n",
        "    super().__init__()\n",
        "    self.in_channels = in_channels\n",
        "    self.qkv_channels = qkv_channels\n",
        "\n",
        "    self.query = self._conv()\n",
        "    self.key = self._conv()\n",
        "    self.value = self._conv()\n",
        "\n",
        "    self.softmax = nn.Softmax(dim=-1)\n",
        "\n",
        "    self.last_conv = self._conv_last()\n",
        "\n",
        "  def _conv(self):\n",
        "    return nn.Conv2d(self.in_channels, self.qkv_channels, 1)\n",
        "  def _conv_last(self):\n",
        "    return nn.Conv2d(self.qkv_channels, self.in_channels, 1)\n",
        "\n",
        "  def forward(self,x):\n",
        "    Q = self.query(x).flatten(start_dim = 2)\n",
        "    K = self.key(x).flatten(start_dim = 2)\n",
        "    V = self.value(x).flatten(start_dim = 2)\n",
        "\n",
        "    E = torch.bmm(Q.transpose(1,2), K)\n",
        "    A = self.softmax(E)\n",
        "\n",
        "    y = torch.bmm(V, A)\n",
        "    y = y.reshape((x.shape[0],self.qkv_channels,*x.shape[2:]))\n",
        "\n",
        "    y = self.last_conv(y)\n",
        "\n",
        "    return x + y\n"
      ]
    },
    {
      "cell_type": "markdown",
      "metadata": {
        "id": "FstfyQeb1SIO"
      },
      "source": [
        "## CNN Network"
      ]
    },
    {
      "cell_type": "code",
      "execution_count": null,
      "metadata": {
        "id": "YQrE828N1btz"
      },
      "outputs": [],
      "source": [
        "class net_SA(nn.Module):\n",
        "    def __init__(self):\n",
        "        super().__init__()\n",
        "\n",
        "        self.cnn = nn.Sequential(\n",
        "            nn.Conv2d(3, 16, 3, padding=1), # out_size = (N,16,32,32)\n",
        "            nn.ReLU(inplace=True), # out_size = (N,16,32,32)\n",
        "            nn.BatchNorm2d(16), # out_size = (N,16,32,32)\n",
        "            nn.Conv2d(16, 32, 3, padding=1), # out_size = (N,32,32,32)\n",
        "            nn.ReLU(inplace=True), # out_size = (N,32,32,32)\n",
        "            nn.BatchNorm2d(32), # out_size = (N,32,32,32)\n",
        "            SA_2D(in_channels=32, qkv_channels=16), # out_size = (N,32,32,32)\n",
        "            nn.Conv2d(32, 64, 3, padding=1), # out_size = (N,64,32,32)\n",
        "            nn.ReLU(inplace=True), # out_size = (N,64,32,32)\n",
        "            nn.BatchNorm2d(64), # out_size = (N,64,32,32)\n",
        "            SA_2D(in_channels=64, qkv_channels=32), # out_size = (N,64,32,32)\n",
        "            nn.MaxPool2d(2), # out_size = (N,64,16,16)\n",
        "            nn.Conv2d(64, 128, 3, padding=1), # out_size = (N,128,16,16)\n",
        "            nn.ReLU(inplace=True), # out_size = (N,128,16,16)\n",
        "            nn.BatchNorm2d(128), # out_size = (N,128,16,16)\n",
        "            SA_2D(in_channels=128, qkv_channels=64), # out_size = (N,128,16,16)\n",
        "            nn.MaxPool2d(2), # out_size = (N,128,8,8)\n",
        "            nn.Conv2d(128, 256, 3, padding=1), # out_size = (N,256,8,8)\n",
        "            nn.ReLU(inplace=True),  # out_size = (N,256,8,8)\n",
        "            nn.BatchNorm2d(256),  # out_size = (N,256,8,8)\n",
        "            # SA_2D(in_channels=256, qkv_channels=128),  # out_size = (N,256,8,8)\n",
        "            nn.AdaptiveAvgPool2d(1),  # out_size = (N,256,1,1)\n",
        "            nn.Flatten(), # out_size: (N,256)\n",
        "            nn.Dropout(), # out_size: (N,256)\n",
        "            nn.Linear(256, 32), # out_size: (N,32)\n",
        "            nn.ReLU(inplace=True), # out_size: (N,32)\n",
        "            nn.Dropout(), # out_size: (N,32)\n",
        "            nn.Linear(32, 10), # out_size: (N,10)\n",
        "        )\n",
        "\n",
        "    def forward(self, x):\n",
        "        return self.cnn(x)"
      ]
    },
    {
      "cell_type": "markdown",
      "metadata": {
        "id": "OIr9TFQN1JH6"
      },
      "source": [
        "## Training"
      ]
    },
    {
      "cell_type": "code",
      "execution_count": null,
      "metadata": {
        "colab": {
          "base_uri": "https://localhost:8080/"
        },
        "id": "sSjnt1wx1L1l",
        "outputId": "3ad96ea7-3efc-457d-deb6-91a13e01a717"
      },
      "outputs": [
        {
          "name": "stdout",
          "output_type": "stream",
          "text": [
            "net_SA(\n",
            "  (cnn): Sequential(\n",
            "    (0): Conv2d(3, 16, kernel_size=(3, 3), stride=(1, 1), padding=(1, 1))\n",
            "    (1): ReLU(inplace=True)\n",
            "    (2): BatchNorm2d(16, eps=1e-05, momentum=0.1, affine=True, track_running_stats=True)\n",
            "    (3): Conv2d(16, 32, kernel_size=(3, 3), stride=(1, 1), padding=(1, 1))\n",
            "    (4): ReLU(inplace=True)\n",
            "    (5): BatchNorm2d(32, eps=1e-05, momentum=0.1, affine=True, track_running_stats=True)\n",
            "    (6): SA_2D(\n",
            "      (query): Conv2d(32, 16, kernel_size=(1, 1), stride=(1, 1))\n",
            "      (key): Conv2d(32, 16, kernel_size=(1, 1), stride=(1, 1))\n",
            "      (value): Conv2d(32, 16, kernel_size=(1, 1), stride=(1, 1))\n",
            "      (softmax): Softmax(dim=-1)\n",
            "      (last_conv): Conv2d(16, 32, kernel_size=(1, 1), stride=(1, 1))\n",
            "    )\n",
            "    (7): Conv2d(32, 64, kernel_size=(3, 3), stride=(1, 1), padding=(1, 1))\n",
            "    (8): ReLU(inplace=True)\n",
            "    (9): BatchNorm2d(64, eps=1e-05, momentum=0.1, affine=True, track_running_stats=True)\n",
            "    (10): SA_2D(\n",
            "      (query): Conv2d(64, 32, kernel_size=(1, 1), stride=(1, 1))\n",
            "      (key): Conv2d(64, 32, kernel_size=(1, 1), stride=(1, 1))\n",
            "      (value): Conv2d(64, 32, kernel_size=(1, 1), stride=(1, 1))\n",
            "      (softmax): Softmax(dim=-1)\n",
            "      (last_conv): Conv2d(32, 64, kernel_size=(1, 1), stride=(1, 1))\n",
            "    )\n",
            "    (11): MaxPool2d(kernel_size=2, stride=2, padding=0, dilation=1, ceil_mode=False)\n",
            "    (12): Conv2d(64, 128, kernel_size=(3, 3), stride=(1, 1), padding=(1, 1))\n",
            "    (13): ReLU(inplace=True)\n",
            "    (14): BatchNorm2d(128, eps=1e-05, momentum=0.1, affine=True, track_running_stats=True)\n",
            "    (15): SA_2D(\n",
            "      (query): Conv2d(128, 64, kernel_size=(1, 1), stride=(1, 1))\n",
            "      (key): Conv2d(128, 64, kernel_size=(1, 1), stride=(1, 1))\n",
            "      (value): Conv2d(128, 64, kernel_size=(1, 1), stride=(1, 1))\n",
            "      (softmax): Softmax(dim=-1)\n",
            "      (last_conv): Conv2d(64, 128, kernel_size=(1, 1), stride=(1, 1))\n",
            "    )\n",
            "    (16): MaxPool2d(kernel_size=2, stride=2, padding=0, dilation=1, ceil_mode=False)\n",
            "    (17): Conv2d(128, 256, kernel_size=(3, 3), stride=(1, 1), padding=(1, 1))\n",
            "    (18): ReLU(inplace=True)\n",
            "    (19): BatchNorm2d(256, eps=1e-05, momentum=0.1, affine=True, track_running_stats=True)\n",
            "    (20): AdaptiveAvgPool2d(output_size=1)\n",
            "    (21): Flatten(start_dim=1, end_dim=-1)\n",
            "    (22): Dropout(p=0.5, inplace=False)\n",
            "    (23): Linear(in_features=256, out_features=32, bias=True)\n",
            "    (24): ReLU(inplace=True)\n",
            "    (25): Dropout(p=0.5, inplace=False)\n",
            "    (26): Linear(in_features=32, out_features=10, bias=True)\n",
            "  )\n",
            ")\n"
          ]
        }
      ],
      "source": [
        "model = net_SA().to(device)\n",
        "print(model)"
      ]
    },
    {
      "cell_type": "code",
      "execution_count": null,
      "metadata": {
        "colab": {
          "base_uri": "https://localhost:8080/"
        },
        "id": "HIAyI86E_mqV",
        "outputId": "b8b98f1d-5d08-4123-ecf7-2d9f589a278c"
      },
      "outputs": [
        {
          "name": "stdout",
          "output_type": "stream",
          "text": [
            "Number of parameters: 445722\n"
          ]
        }
      ],
      "source": [
        "print(f\"Number of parameters: {num_parameters(model)}\")"
      ]
    },
    {
      "cell_type": "code",
      "execution_count": null,
      "metadata": {
        "colab": {
          "base_uri": "https://localhost:8080/",
          "height": 1000
        },
        "id": "xII4UOKv-F-4",
        "outputId": "90ac865a-e56a-4da8-ccad-63484f033ffa"
      },
      "outputs": [
        {
          "name": "stdout",
          "output_type": "stream",
          "text": [
            "Epoch 1\n",
            "-------------------------------\n",
            "loss: 2.268199  [10000/50000]\n",
            "loss: 2.199353  [20000/50000]\n",
            "loss: 2.060759  [30000/50000]\n",
            "loss: 2.106733  [40000/50000]\n",
            "loss: 1.958734  [50000/50000]\n",
            "Train Error: \n",
            " Accuracy: 19.8%, Avg loss: 2.144287 \n",
            "\n",
            "Test Error: \n",
            " Accuracy: 27.2%, Avg loss: 1.983403 \n",
            "\n",
            "Epoch 2\n",
            "-------------------------------\n",
            "loss: 1.870894  [10000/50000]\n",
            "loss: 1.925784  [20000/50000]\n",
            "loss: 1.798681  [30000/50000]\n",
            "loss: 1.877703  [40000/50000]\n",
            "loss: 1.729749  [50000/50000]\n",
            "Train Error: \n",
            " Accuracy: 32.6%, Avg loss: 1.798370 \n",
            "\n",
            "Test Error: \n",
            " Accuracy: 42.7%, Avg loss: 1.575529 \n",
            "\n",
            "Epoch 3\n",
            "-------------------------------\n",
            "loss: 1.640395  [10000/50000]\n",
            "loss: 1.680706  [20000/50000]\n",
            "loss: 1.607858  [30000/50000]\n",
            "loss: 1.405533  [40000/50000]\n",
            "loss: 1.665266  [50000/50000]\n",
            "Train Error: \n",
            " Accuracy: 40.2%, Avg loss: 1.615331 \n",
            "\n",
            "Test Error: \n",
            " Accuracy: 47.0%, Avg loss: 1.466141 \n",
            "\n",
            "Epoch 4\n",
            "-------------------------------\n",
            "loss: 1.539203  [10000/50000]\n",
            "loss: 1.386511  [20000/50000]\n",
            "loss: 1.450056  [30000/50000]\n",
            "loss: 1.426879  [40000/50000]\n",
            "loss: 1.395345  [50000/50000]\n",
            "Train Error: \n",
            " Accuracy: 45.0%, Avg loss: 1.492368 \n",
            "\n",
            "Test Error: \n",
            " Accuracy: 53.2%, Avg loss: 1.322761 \n",
            "\n",
            "Epoch 5\n",
            "-------------------------------\n",
            "loss: 1.526509  [10000/50000]\n",
            "loss: 1.344136  [20000/50000]\n",
            "loss: 1.411502  [30000/50000]\n",
            "loss: 1.323092  [40000/50000]\n",
            "loss: 1.371007  [50000/50000]\n",
            "Train Error: \n",
            " Accuracy: 49.0%, Avg loss: 1.398669 \n",
            "\n",
            "Test Error: \n",
            " Accuracy: 56.5%, Avg loss: 1.205361 \n",
            "\n",
            "Epoch 6\n",
            "-------------------------------\n",
            "loss: 1.289196  [10000/50000]\n",
            "loss: 1.501106  [20000/50000]\n",
            "loss: 1.356196  [30000/50000]\n",
            "loss: 1.332751  [40000/50000]\n",
            "loss: 1.175456  [50000/50000]\n",
            "Train Error: \n",
            " Accuracy: 51.9%, Avg loss: 1.330362 \n",
            "\n",
            "Test Error: \n",
            " Accuracy: 58.1%, Avg loss: 1.172623 \n",
            "\n",
            "Epoch 7\n",
            "-------------------------------\n",
            "loss: 1.235020  [10000/50000]\n",
            "loss: 1.194634  [20000/50000]\n",
            "loss: 1.316379  [30000/50000]\n",
            "loss: 1.320564  [40000/50000]\n",
            "loss: 1.152842  [50000/50000]\n",
            "Train Error: \n",
            " Accuracy: 54.1%, Avg loss: 1.266009 \n",
            "\n",
            "Test Error: \n",
            " Accuracy: 61.4%, Avg loss: 1.090060 \n",
            "\n",
            "Epoch 8\n",
            "-------------------------------\n",
            "loss: 1.022346  [10000/50000]\n",
            "loss: 1.261041  [20000/50000]\n",
            "loss: 1.234900  [30000/50000]\n",
            "loss: 1.164374  [40000/50000]\n",
            "loss: 1.197215  [50000/50000]\n",
            "Train Error: \n",
            " Accuracy: 56.6%, Avg loss: 1.206090 \n",
            "\n",
            "Test Error: \n",
            " Accuracy: 60.7%, Avg loss: 1.098056 \n",
            "\n",
            "Epoch 9\n",
            "-------------------------------\n",
            "loss: 1.095330  [10000/50000]\n",
            "loss: 1.091053  [20000/50000]\n",
            "loss: 1.175396  [30000/50000]\n",
            "loss: 1.241516  [40000/50000]\n",
            "loss: 0.947203  [50000/50000]\n",
            "Train Error: \n",
            " Accuracy: 58.6%, Avg loss: 1.160116 \n",
            "\n",
            "Test Error: \n",
            " Accuracy: 63.8%, Avg loss: 1.018876 \n",
            "\n",
            "Epoch 10\n",
            "-------------------------------\n",
            "loss: 1.130088  [10000/50000]\n",
            "loss: 1.141548  [20000/50000]\n",
            "loss: 1.294318  [30000/50000]\n",
            "loss: 1.135475  [40000/50000]\n",
            "loss: 1.113250  [50000/50000]\n",
            "Train Error: \n",
            " Accuracy: 60.2%, Avg loss: 1.120837 \n",
            "\n",
            "Test Error: \n",
            " Accuracy: 64.1%, Avg loss: 0.992623 \n",
            "\n",
            "Epoch 11\n",
            "-------------------------------\n",
            "loss: 1.035181  [10000/50000]\n",
            "loss: 1.054016  [20000/50000]\n",
            "loss: 1.213643  [30000/50000]\n",
            "loss: 1.376049  [40000/50000]\n",
            "loss: 1.078829  [50000/50000]\n",
            "Train Error: \n",
            " Accuracy: 61.4%, Avg loss: 1.083780 \n",
            "\n",
            "Test Error: \n",
            " Accuracy: 66.5%, Avg loss: 0.947022 \n",
            "\n",
            "Epoch 12\n",
            "-------------------------------\n",
            "loss: 1.126830  [10000/50000]\n",
            "loss: 1.186892  [20000/50000]\n",
            "loss: 1.030888  [30000/50000]\n",
            "loss: 1.056525  [40000/50000]\n",
            "loss: 0.977495  [50000/50000]\n",
            "Train Error: \n",
            " Accuracy: 62.9%, Avg loss: 1.047752 \n",
            "\n",
            "Test Error: \n",
            " Accuracy: 66.8%, Avg loss: 0.940196 \n",
            "\n",
            "Epoch 13\n",
            "-------------------------------\n",
            "loss: 0.858033  [10000/50000]\n",
            "loss: 0.963523  [20000/50000]\n",
            "loss: 1.117701  [30000/50000]\n",
            "loss: 0.892164  [40000/50000]\n",
            "loss: 0.891066  [50000/50000]\n",
            "Train Error: \n",
            " Accuracy: 64.3%, Avg loss: 1.010774 \n",
            "\n",
            "Test Error: \n",
            " Accuracy: 66.6%, Avg loss: 0.927107 \n",
            "\n",
            "Epoch 14\n",
            "-------------------------------\n",
            "loss: 0.839218  [10000/50000]\n",
            "loss: 1.158047  [20000/50000]\n",
            "loss: 1.019275  [30000/50000]\n",
            "loss: 1.066897  [40000/50000]\n",
            "loss: 0.909888  [50000/50000]\n",
            "Train Error: \n",
            " Accuracy: 65.5%, Avg loss: 0.984521 \n",
            "\n",
            "Test Error: \n",
            " Accuracy: 67.2%, Avg loss: 0.911906 \n",
            "\n",
            "Epoch 15\n",
            "-------------------------------\n",
            "loss: 0.914038  [10000/50000]\n",
            "loss: 1.046719  [20000/50000]\n",
            "loss: 0.969538  [30000/50000]\n",
            "loss: 0.980216  [40000/50000]\n",
            "loss: 0.858092  [50000/50000]\n",
            "Train Error: \n",
            " Accuracy: 66.6%, Avg loss: 0.956912 \n",
            "\n",
            "Test Error: \n",
            " Accuracy: 67.5%, Avg loss: 0.894816 \n",
            "\n",
            "Epoch 16\n",
            "-------------------------------\n",
            "loss: 0.963997  [10000/50000]\n",
            "loss: 0.958349  [20000/50000]\n",
            "loss: 0.971225  [30000/50000]\n",
            "loss: 0.922938  [40000/50000]\n",
            "loss: 1.034437  [50000/50000]\n",
            "Train Error: \n",
            " Accuracy: 67.6%, Avg loss: 0.926963 \n",
            "\n",
            "Test Error: \n",
            " Accuracy: 69.7%, Avg loss: 0.849675 \n",
            "\n",
            "Epoch 17\n",
            "-------------------------------\n",
            "loss: 0.868633  [10000/50000]\n",
            "loss: 0.877172  [20000/50000]\n",
            "loss: 0.946167  [30000/50000]\n",
            "loss: 0.833504  [40000/50000]\n",
            "loss: 0.955378  [50000/50000]\n",
            "Train Error: \n",
            " Accuracy: 68.5%, Avg loss: 0.901296 \n",
            "\n",
            "Test Error: \n",
            " Accuracy: 69.7%, Avg loss: 0.849491 \n",
            "\n",
            "Epoch 18\n",
            "-------------------------------\n",
            "loss: 0.975824  [10000/50000]\n",
            "loss: 0.982700  [20000/50000]\n",
            "loss: 0.754602  [30000/50000]\n",
            "loss: 0.873338  [40000/50000]\n",
            "loss: 0.847976  [50000/50000]\n",
            "Train Error: \n",
            " Accuracy: 69.2%, Avg loss: 0.885914 \n",
            "\n",
            "Test Error: \n",
            " Accuracy: 71.1%, Avg loss: 0.809860 \n",
            "\n",
            "Epoch 19\n",
            "-------------------------------\n",
            "loss: 0.764382  [10000/50000]\n",
            "loss: 1.046656  [20000/50000]\n",
            "loss: 0.765620  [30000/50000]\n",
            "loss: 0.983976  [40000/50000]\n",
            "loss: 0.793002  [50000/50000]\n",
            "Train Error: \n",
            " Accuracy: 70.0%, Avg loss: 0.852309 \n",
            "\n",
            "Test Error: \n",
            " Accuracy: 70.7%, Avg loss: 0.830738 \n",
            "\n",
            "Epoch 20\n",
            "-------------------------------\n",
            "loss: 1.010993  [10000/50000]\n",
            "loss: 0.896571  [20000/50000]\n",
            "loss: 0.794872  [30000/50000]\n",
            "loss: 0.800556  [40000/50000]\n",
            "loss: 0.810506  [50000/50000]\n",
            "Train Error: \n",
            " Accuracy: 70.9%, Avg loss: 0.836373 \n",
            "\n",
            "Test Error: \n",
            " Accuracy: 71.0%, Avg loss: 0.801939 \n",
            "\n"
          ]
        },
        {
          "data": {
            "image/png": "[encoded data removed]",
            "text/plain": [
              "<Figure size 640x480 with 2 Axes>"
            ]
          },
          "metadata": {},
          "output_type": "display_data"
        }
      ],
      "source": [
        "EPOCH = 20\n",
        "cnn_train_loss_hist,cnn_test_loss_hist,cnn_train_acc_hist,cnn_test_acc_hist = train_model(model,train_dataloader,test_dataloader,EPOCH)"
      ]
    },
    {
      "cell_type": "markdown",
      "metadata": {
        "id": "-yqw1d1HY0ob"
      },
      "source": [
        "# Part-2"
      ]
    },
    {
      "cell_type": "markdown",
      "metadata": {
        "id": "pYJM_h2_n9ig"
      },
      "source": [
        "## Embedding"
      ]
    },
    {
      "cell_type": "code",
      "execution_count": null,
      "metadata": {
        "id": "mGJS17yjlCCk"
      },
      "outputs": [],
      "source": [
        "class embedding(nn.Module):\n",
        "  def __init__(self,image_size,patch_size,emb_size):\n",
        "    super().__init__()\n",
        "    self.image_size = image_size\n",
        "    self.patch_size = patch_size\n",
        "    self.emb_size = emb_size\n",
        "\n",
        "    C,H,W = self.image_size\n",
        "    assert H % self.patch_size == 0, \"Invalid patch size\"\n",
        "    assert W % self.patch_size == 0, \"Invalid patch size\"\n",
        "\n",
        "    patch_flatten_size = patch_size*patch_size*C\n",
        "    n_patches = int((H*W)/(patch_size**2))\n",
        "\n",
        "    self.linear_transform = nn.Linear(patch_flatten_size,self.emb_size)\n",
        "    self.class_tok = nn.Parameter(torch.randn(1,1,self.emb_size))\n",
        "    self.pos_emb = nn.Parameter(torch.randn((n_patches + 1, self.emb_size)))\n",
        "\n",
        "  def image_to_patches(self,image):\n",
        "    # image: input image tensor of shape (N,C, H, W)\n",
        "    # patch_size: size of each patch (P, P)\n",
        "    N,C,H,W = image.shape\n",
        "\n",
        "    assert image.shape[1:] == self.image_size, \"Invalid image shape\"\n",
        "\n",
        "    # Unfold the image tensor to extract patches\n",
        "    patches = image.unfold(2, self.patch_size, self.patch_size).unfold(3, self.patch_size, self.patch_size)\n",
        "\n",
        "    # Reshape the patches tensor to have a proper shape\n",
        "    patches = patches.contiguous().view(N,-1, C, self.patch_size, self.patch_size)\n",
        "\n",
        "    patches = patches.flatten(2)\n",
        "\n",
        "    return patches\n",
        "\n",
        "  def forward(self,x):\n",
        "    x = self.image_to_patches(x)\n",
        "    x = self.linear_transform(x)\n",
        "    class_tok = self.class_tok.repeat((x.shape[0],1,1))\n",
        "    x = torch.cat((class_tok, x), 1)\n",
        "    x = x + self.pos_emb\n",
        "    return x\n"
      ]
    },
    {
      "cell_type": "markdown",
      "metadata": {
        "id": "BdZC9qb9oiVX"
      },
      "source": [
        "## Self-attention 1D module"
      ]
    },
    {
      "cell_type": "code",
      "execution_count": null,
      "metadata": {
        "id": "MRq6YWHdw6E8"
      },
      "outputs": [],
      "source": [
        "class SA_1D(nn.Module):\n",
        "  def __init__(self,emb_size,qk_size,v_size):\n",
        "    super().__init__()\n",
        "\n",
        "    self.emb_size = emb_size\n",
        "    self.qk_size = qk_size\n",
        "    self.v_size = v_size\n",
        "\n",
        "    self.query = nn.Linear(self.emb_size, self.qk_size)\n",
        "    self.key = nn.Linear(self.emb_size, self.qk_size)\n",
        "    self.value = nn.Linear(self.emb_size, self.v_size)\n",
        "\n",
        "    self.softmax = nn.Softmax(dim=-1)\n",
        "\n",
        "  def forward(self,x):\n",
        "    Q = self.query(x)\n",
        "    K = self.key(x)\n",
        "    V = self.value(x)\n",
        "\n",
        "    E = torch.bmm(Q, K.transpose(-2, -1))\n",
        "    A = self.softmax(E/np.sqrt(self.qk_size))\n",
        "    y = torch.bmm(A, V)\n",
        "    return y"
      ]
    },
    {
      "cell_type": "markdown",
      "metadata": {
        "id": "P0GZPFi5ovXs"
      },
      "source": [
        "## Multi-headed self-attention"
      ]
    },
    {
      "cell_type": "code",
      "execution_count": null,
      "metadata": {
        "id": "aq57YCquzgcC"
      },
      "outputs": [],
      "source": [
        "class multi_SA(nn.Module):\n",
        "  def __init__(self,emb_size,qk_size,v_size,n_heads):\n",
        "    super().__init__()\n",
        "\n",
        "    self.sa_list = nn.ModuleList([\n",
        "        SA_1D(emb_size,qk_size,v_size) for _ in range(n_heads)\n",
        "    ])\n",
        "\n",
        "    self.linear = nn.Linear(n_heads*v_size,emb_size)\n",
        "\n",
        "  def forward(self,x):\n",
        "    return self.linear(torch.cat([sa(x) for sa in self.sa_list], dim=-1))"
      ]
    },
    {
      "cell_type": "markdown",
      "metadata": {
        "id": "2R9uO002oBMY"
      },
      "source": [
        "## Encoder block"
      ]
    },
    {
      "cell_type": "code",
      "execution_count": null,
      "metadata": {
        "id": "yXxWpuH018Fr"
      },
      "outputs": [],
      "source": [
        "class block(nn.Module):\n",
        "  def __init__(self,emb_size,qk_size,v_size,n_heads,intermediate_size):\n",
        "    super().__init__()\n",
        "\n",
        "    self.msa = nn.Sequential(\n",
        "      nn.LayerNorm(emb_size),\n",
        "      multi_SA(emb_size,qk_size,v_size,n_heads),\n",
        "    )\n",
        "    self.mlp = nn.Sequential(\n",
        "      nn.LayerNorm(emb_size),\n",
        "      nn.Dropout(),\n",
        "      nn.Linear(emb_size, intermediate_size),\n",
        "      nn.ReLU(inplace=True),\n",
        "      nn.Dropout(),\n",
        "      nn.Linear(intermediate_size, emb_size),\n",
        "      nn.ReLU(inplace=True),\n",
        "    )\n",
        "\n",
        "  def forward(self,x):\n",
        "    x = x + self.msa(x)\n",
        "    return x + self.mlp(x)"
      ]
    },
    {
      "cell_type": "markdown",
      "metadata": {
        "id": "pQbvr6DKoGue"
      },
      "source": [
        "## ViT"
      ]
    },
    {
      "cell_type": "code",
      "execution_count": null,
      "metadata": {
        "id": "i0TM97DS91As"
      },
      "outputs": [],
      "source": [
        "class ViT(nn.Module):\n",
        "  def __init__(self,image_size,patch_size,qk_size,v_size,emb_size,n_blocks,n_heads,intermediate_size):\n",
        "    super().__init__()\n",
        "\n",
        "    self.embed = embedding(image_size,patch_size,emb_size)\n",
        "    self.blocks = nn.Sequential( *([\n",
        "        block(emb_size,qk_size,v_size,n_heads,intermediate_size) for _ in range(n_blocks)\n",
        "    ]))\n",
        "\n",
        "    self.mlp_head = nn.Linear(emb_size, 10)\n",
        "\n",
        "  def forward(self,x):\n",
        "    x = self.embed(x)\n",
        "    x = self.blocks(x)\n",
        "    x_class = x[:,0,:]\n",
        "    return self.mlp_head(x_class)\n"
      ]
    },
    {
      "cell_type": "markdown",
      "metadata": {
        "id": "ZcwUOJ6PCuGY"
      },
      "source": [
        "## Training ViT"
      ]
    },
    {
      "cell_type": "code",
      "execution_count": null,
      "metadata": {
        "colab": {
          "base_uri": "https://localhost:8080/"
        },
        "id": "3EmyLdhgBxkU",
        "outputId": "442cfe95-d30d-4816-85e4-36281a4fc347"
      },
      "outputs": [
        {
          "name": "stdout",
          "output_type": "stream",
          "text": [
            "ViT(\n",
            "  (embed): embedding(\n",
            "    (linear_transform): Linear(in_features=48, out_features=32, bias=True)\n",
            "  )\n",
            "  (blocks): Sequential(\n",
            "    (0): block(\n",
            "      (msa): Sequential(\n",
            "        (0): LayerNorm((32,), eps=1e-05, elementwise_affine=True)\n",
            "        (1): multi_SA(\n",
            "          (sa_list): ModuleList(\n",
            "            (0-7): 8 x SA_1D(\n",
            "              (query): Linear(in_features=32, out_features=64, bias=True)\n",
            "              (key): Linear(in_features=32, out_features=64, bias=True)\n",
            "              (value): Linear(in_features=32, out_features=32, bias=True)\n",
            "              (softmax): Softmax(dim=-1)\n",
            "            )\n",
            "          )\n",
            "          (linear): Linear(in_features=256, out_features=32, bias=True)\n",
            "        )\n",
            "      )\n",
            "      (mlp): Sequential(\n",
            "        (0): LayerNorm((32,), eps=1e-05, elementwise_affine=True)\n",
            "        (1): Dropout(p=0.5, inplace=False)\n",
            "        (2): Linear(in_features=32, out_features=64, bias=True)\n",
            "        (3): ReLU(inplace=True)\n",
            "        (4): Dropout(p=0.5, inplace=False)\n",
            "        (5): Linear(in_features=64, out_features=32, bias=True)\n",
            "        (6): ReLU(inplace=True)\n",
            "      )\n",
            "    )\n",
            "    (1): block(\n",
            "      (msa): Sequential(\n",
            "        (0): LayerNorm((32,), eps=1e-05, elementwise_affine=True)\n",
            "        (1): multi_SA(\n",
            "          (sa_list): ModuleList(\n",
            "            (0-7): 8 x SA_1D(\n",
            "              (query): Linear(in_features=32, out_features=64, bias=True)\n",
            "              (key): Linear(in_features=32, out_features=64, bias=True)\n",
            "              (value): Linear(in_features=32, out_features=32, bias=True)\n",
            "              (softmax): Softmax(dim=-1)\n",
            "            )\n",
            "          )\n",
            "          (linear): Linear(in_features=256, out_features=32, bias=True)\n",
            "        )\n",
            "      )\n",
            "      (mlp): Sequential(\n",
            "        (0): LayerNorm((32,), eps=1e-05, elementwise_affine=True)\n",
            "        (1): Dropout(p=0.5, inplace=False)\n",
            "        (2): Linear(in_features=32, out_features=64, bias=True)\n",
            "        (3): ReLU(inplace=True)\n",
            "        (4): Dropout(p=0.5, inplace=False)\n",
            "        (5): Linear(in_features=64, out_features=32, bias=True)\n",
            "        (6): ReLU(inplace=True)\n",
            "      )\n",
            "    )\n",
            "    (2): block(\n",
            "      (msa): Sequential(\n",
            "        (0): LayerNorm((32,), eps=1e-05, elementwise_affine=True)\n",
            "        (1): multi_SA(\n",
            "          (sa_list): ModuleList(\n",
            "            (0-7): 8 x SA_1D(\n",
            "              (query): Linear(in_features=32, out_features=64, bias=True)\n",
            "              (key): Linear(in_features=32, out_features=64, bias=True)\n",
            "              (value): Linear(in_features=32, out_features=32, bias=True)\n",
            "              (softmax): Softmax(dim=-1)\n",
            "            )\n",
            "          )\n",
            "          (linear): Linear(in_features=256, out_features=32, bias=True)\n",
            "        )\n",
            "      )\n",
            "      (mlp): Sequential(\n",
            "        (0): LayerNorm((32,), eps=1e-05, elementwise_affine=True)\n",
            "        (1): Dropout(p=0.5, inplace=False)\n",
            "        (2): Linear(in_features=32, out_features=64, bias=True)\n",
            "        (3): ReLU(inplace=True)\n",
            "        (4): Dropout(p=0.5, inplace=False)\n",
            "        (5): Linear(in_features=64, out_features=32, bias=True)\n",
            "        (6): ReLU(inplace=True)\n",
            "      )\n",
            "    )\n",
            "    (3): block(\n",
            "      (msa): Sequential(\n",
            "        (0): LayerNorm((32,), eps=1e-05, elementwise_affine=True)\n",
            "        (1): multi_SA(\n",
            "          (sa_list): ModuleList(\n",
            "            (0-7): 8 x SA_1D(\n",
            "              (query): Linear(in_features=32, out_features=64, bias=True)\n",
            "              (key): Linear(in_features=32, out_features=64, bias=True)\n",
            "              (value): Linear(in_features=32, out_features=32, bias=True)\n",
            "              (softmax): Softmax(dim=-1)\n",
            "            )\n",
            "          )\n",
            "          (linear): Linear(in_features=256, out_features=32, bias=True)\n",
            "        )\n",
            "      )\n",
            "      (mlp): Sequential(\n",
            "        (0): LayerNorm((32,), eps=1e-05, elementwise_affine=True)\n",
            "        (1): Dropout(p=0.5, inplace=False)\n",
            "        (2): Linear(in_features=32, out_features=64, bias=True)\n",
            "        (3): ReLU(inplace=True)\n",
            "        (4): Dropout(p=0.5, inplace=False)\n",
            "        (5): Linear(in_features=64, out_features=32, bias=True)\n",
            "        (6): ReLU(inplace=True)\n",
            "      )\n",
            "    )\n",
            "    (4): block(\n",
            "      (msa): Sequential(\n",
            "        (0): LayerNorm((32,), eps=1e-05, elementwise_affine=True)\n",
            "        (1): multi_SA(\n",
            "          (sa_list): ModuleList(\n",
            "            (0-7): 8 x SA_1D(\n",
            "              (query): Linear(in_features=32, out_features=64, bias=True)\n",
            "              (key): Linear(in_features=32, out_features=64, bias=True)\n",
            "              (value): Linear(in_features=32, out_features=32, bias=True)\n",
            "              (softmax): Softmax(dim=-1)\n",
            "            )\n",
            "          )\n",
            "          (linear): Linear(in_features=256, out_features=32, bias=True)\n",
            "        )\n",
            "      )\n",
            "      (mlp): Sequential(\n",
            "        (0): LayerNorm((32,), eps=1e-05, elementwise_affine=True)\n",
            "        (1): Dropout(p=0.5, inplace=False)\n",
            "        (2): Linear(in_features=32, out_features=64, bias=True)\n",
            "        (3): ReLU(inplace=True)\n",
            "        (4): Dropout(p=0.5, inplace=False)\n",
            "        (5): Linear(in_features=64, out_features=32, bias=True)\n",
            "        (6): ReLU(inplace=True)\n",
            "      )\n",
            "    )\n",
            "    (5): block(\n",
            "      (msa): Sequential(\n",
            "        (0): LayerNorm((32,), eps=1e-05, elementwise_affine=True)\n",
            "        (1): multi_SA(\n",
            "          (sa_list): ModuleList(\n",
            "            (0-7): 8 x SA_1D(\n",
            "              (query): Linear(in_features=32, out_features=64, bias=True)\n",
            "              (key): Linear(in_features=32, out_features=64, bias=True)\n",
            "              (value): Linear(in_features=32, out_features=32, bias=True)\n",
            "              (softmax): Softmax(dim=-1)\n",
            "            )\n",
            "          )\n",
            "          (linear): Linear(in_features=256, out_features=32, bias=True)\n",
            "        )\n",
            "      )\n",
            "      (mlp): Sequential(\n",
            "        (0): LayerNorm((32,), eps=1e-05, elementwise_affine=True)\n",
            "        (1): Dropout(p=0.5, inplace=False)\n",
            "        (2): Linear(in_features=32, out_features=64, bias=True)\n",
            "        (3): ReLU(inplace=True)\n",
            "        (4): Dropout(p=0.5, inplace=False)\n",
            "        (5): Linear(in_features=64, out_features=32, bias=True)\n",
            "        (6): ReLU(inplace=True)\n",
            "      )\n",
            "    )\n",
            "    (6): block(\n",
            "      (msa): Sequential(\n",
            "        (0): LayerNorm((32,), eps=1e-05, elementwise_affine=True)\n",
            "        (1): multi_SA(\n",
            "          (sa_list): ModuleList(\n",
            "            (0-7): 8 x SA_1D(\n",
            "              (query): Linear(in_features=32, out_features=64, bias=True)\n",
            "              (key): Linear(in_features=32, out_features=64, bias=True)\n",
            "              (value): Linear(in_features=32, out_features=32, bias=True)\n",
            "              (softmax): Softmax(dim=-1)\n",
            "            )\n",
            "          )\n",
            "          (linear): Linear(in_features=256, out_features=32, bias=True)\n",
            "        )\n",
            "      )\n",
            "      (mlp): Sequential(\n",
            "        (0): LayerNorm((32,), eps=1e-05, elementwise_affine=True)\n",
            "        (1): Dropout(p=0.5, inplace=False)\n",
            "        (2): Linear(in_features=32, out_features=64, bias=True)\n",
            "        (3): ReLU(inplace=True)\n",
            "        (4): Dropout(p=0.5, inplace=False)\n",
            "        (5): Linear(in_features=64, out_features=32, bias=True)\n",
            "        (6): ReLU(inplace=True)\n",
            "      )\n",
            "    )\n",
            "    (7): block(\n",
            "      (msa): Sequential(\n",
            "        (0): LayerNorm((32,), eps=1e-05, elementwise_affine=True)\n",
            "        (1): multi_SA(\n",
            "          (sa_list): ModuleList(\n",
            "            (0-7): 8 x SA_1D(\n",
            "              (query): Linear(in_features=32, out_features=64, bias=True)\n",
            "              (key): Linear(in_features=32, out_features=64, bias=True)\n",
            "              (value): Linear(in_features=32, out_features=32, bias=True)\n",
            "              (softmax): Softmax(dim=-1)\n",
            "            )\n",
            "          )\n",
            "          (linear): Linear(in_features=256, out_features=32, bias=True)\n",
            "        )\n",
            "      )\n",
            "      (mlp): Sequential(\n",
            "        (0): LayerNorm((32,), eps=1e-05, elementwise_affine=True)\n",
            "        (1): Dropout(p=0.5, inplace=False)\n",
            "        (2): Linear(in_features=32, out_features=64, bias=True)\n",
            "        (3): ReLU(inplace=True)\n",
            "        (4): Dropout(p=0.5, inplace=False)\n",
            "        (5): Linear(in_features=64, out_features=32, bias=True)\n",
            "        (6): ReLU(inplace=True)\n",
            "      )\n",
            "    )\n",
            "  )\n",
            "  (mlp_head): Linear(in_features=32, out_features=10, bias=True)\n",
            ")\n"
          ]
        }
      ],
      "source": [
        "model = ViT((3,32,32),4,64,32,32,8,8,64).to(device)\n",
        "print(model)"
      ]
    },
    {
      "cell_type": "code",
      "execution_count": null,
      "metadata": {
        "colab": {
          "base_uri": "https://localhost:8080/"
        },
        "id": "CvCbo_ldDOJX",
        "outputId": "3ee2023d-6ce1-4c52-d6b1-1eb563c0c8d8"
      },
      "outputs": [
        {
          "name": "stdout",
          "output_type": "stream",
          "text": [
            "Number of parameters: 442282\n"
          ]
        }
      ],
      "source": [
        "print(f\"Number of parameters: {num_parameters(model)}\")"
      ]
    },
    {
      "cell_type": "code",
      "execution_count": null,
      "metadata": {
        "colab": {
          "base_uri": "https://localhost:8080/",
          "height": 1000
        },
        "id": "Rfu_Td0_FEol",
        "outputId": "3f6c3279-e2e2-40ee-821e-7672f395664a"
      },
      "outputs": [
        {
          "name": "stdout",
          "output_type": "stream",
          "text": [
            "Epoch 1\n",
            "-------------------------------\n",
            "loss: 2.394297  [10000/50000]\n",
            "loss: 2.287244  [20000/50000]\n",
            "loss: 2.296917  [30000/50000]\n",
            "loss: 2.311956  [40000/50000]\n",
            "loss: 2.288807  [50000/50000]\n",
            "Train Error: \n",
            " Accuracy: 11.1%, Avg loss: 2.339384 \n",
            "\n",
            "Test Error: \n",
            " Accuracy: 12.8%, Avg loss: 2.326055 \n",
            "\n",
            "Epoch 2\n",
            "-------------------------------\n",
            "loss: 2.248872  [10000/50000]\n",
            "loss: 2.290516  [20000/50000]\n",
            "loss: 2.305082  [30000/50000]\n",
            "loss: 2.276370  [40000/50000]\n",
            "loss: 2.286070  [50000/50000]\n",
            "Train Error: \n",
            " Accuracy: 13.8%, Avg loss: 2.284983 \n",
            "\n",
            "Test Error: \n",
            " Accuracy: 13.0%, Avg loss: 2.322288 \n",
            "\n",
            "Epoch 3\n",
            "-------------------------------\n",
            "loss: 2.326661  [10000/50000]\n",
            "loss: 2.231103  [20000/50000]\n",
            "loss: 2.272365  [30000/50000]\n",
            "loss: 2.310571  [40000/50000]\n",
            "loss: 2.277644  [50000/50000]\n",
            "Train Error: \n",
            " Accuracy: 14.5%, Avg loss: 2.270459 \n",
            "\n",
            "Test Error: \n",
            " Accuracy: 13.8%, Avg loss: 2.298840 \n",
            "\n",
            "Epoch 4\n",
            "-------------------------------\n",
            "loss: 2.273503  [10000/50000]\n",
            "loss: 2.270272  [20000/50000]\n",
            "loss: 2.291287  [30000/50000]\n",
            "loss: 2.265615  [40000/50000]\n",
            "loss: 2.234380  [50000/50000]\n",
            "Train Error: \n",
            " Accuracy: 14.6%, Avg loss: 2.263604 \n",
            "\n",
            "Test Error: \n",
            " Accuracy: 14.2%, Avg loss: 2.284210 \n",
            "\n",
            "Epoch 5\n",
            "-------------------------------\n",
            "loss: 2.273646  [10000/50000]\n",
            "loss: 2.195993  [20000/50000]\n",
            "loss: 2.220838  [30000/50000]\n",
            "loss: 2.262046  [40000/50000]\n",
            "loss: 2.208738  [50000/50000]\n",
            "Train Error: \n",
            " Accuracy: 15.0%, Avg loss: 2.257080 \n",
            "\n",
            "Test Error: \n",
            " Accuracy: 13.9%, Avg loss: 2.311393 \n",
            "\n",
            "Epoch 6\n",
            "-------------------------------\n",
            "loss: 2.248485  [10000/50000]\n",
            "loss: 2.235186  [20000/50000]\n",
            "loss: 2.185006  [30000/50000]\n",
            "loss: 2.282019  [40000/50000]\n",
            "loss: 2.280097  [50000/50000]\n",
            "Train Error: \n",
            " Accuracy: 15.3%, Avg loss: 2.252401 \n",
            "\n",
            "Test Error: \n",
            " Accuracy: 13.5%, Avg loss: 2.265912 \n",
            "\n",
            "Epoch 7\n",
            "-------------------------------\n",
            "loss: 2.284349  [10000/50000]\n",
            "loss: 2.224831  [20000/50000]\n",
            "loss: 2.187553  [30000/50000]\n",
            "loss: 2.272036  [40000/50000]\n",
            "loss: 2.202075  [50000/50000]\n",
            "Train Error: \n",
            " Accuracy: 15.4%, Avg loss: 2.246503 \n",
            "\n",
            "Test Error: \n",
            " Accuracy: 14.5%, Avg loss: 2.268159 \n",
            "\n",
            "Epoch 8\n",
            "-------------------------------\n",
            "loss: 2.243861  [10000/50000]\n",
            "loss: 2.233817  [20000/50000]\n",
            "loss: 2.296599  [30000/50000]\n",
            "loss: 2.296081  [40000/50000]\n",
            "loss: 2.299223  [50000/50000]\n",
            "Train Error: \n",
            " Accuracy: 15.7%, Avg loss: 2.238691 \n",
            "\n",
            "Test Error: \n",
            " Accuracy: 16.4%, Avg loss: 2.228294 \n",
            "\n",
            "Epoch 9\n",
            "-------------------------------\n",
            "loss: 2.293741  [10000/50000]\n",
            "loss: 2.230564  [20000/50000]\n",
            "loss: 2.218811  [30000/50000]\n",
            "loss: 2.229065  [40000/50000]\n",
            "loss: 2.210989  [50000/50000]\n",
            "Train Error: \n",
            " Accuracy: 16.5%, Avg loss: 2.217056 \n",
            "\n",
            "Test Error: \n",
            " Accuracy: 13.5%, Avg loss: 2.260384 \n",
            "\n",
            "Epoch 10\n",
            "-------------------------------\n",
            "loss: 2.199788  [10000/50000]\n",
            "loss: 2.112462  [20000/50000]\n",
            "loss: 2.262415  [30000/50000]\n",
            "loss: 2.117567  [40000/50000]\n",
            "loss: 2.047608  [50000/50000]\n",
            "Train Error: \n",
            " Accuracy: 17.9%, Avg loss: 2.182164 \n",
            "\n",
            "Test Error: \n",
            " Accuracy: 16.4%, Avg loss: 2.220359 \n",
            "\n",
            "Epoch 11\n",
            "-------------------------------\n",
            "loss: 2.261811  [10000/50000]\n",
            "loss: 2.212680  [20000/50000]\n",
            "loss: 2.009324  [30000/50000]\n",
            "loss: 2.081784  [40000/50000]\n",
            "loss: 2.141048  [50000/50000]\n",
            "Train Error: \n",
            " Accuracy: 19.6%, Avg loss: 2.126357 \n",
            "\n",
            "Test Error: \n",
            " Accuracy: 20.7%, Avg loss: 2.078032 \n",
            "\n",
            "Epoch 12\n",
            "-------------------------------\n",
            "loss: 2.188188  [10000/50000]\n",
            "loss: 2.023378  [20000/50000]\n",
            "loss: 1.982607  [30000/50000]\n",
            "loss: 2.172375  [40000/50000]\n",
            "loss: 1.956442  [50000/50000]\n",
            "Train Error: \n",
            " Accuracy: 21.0%, Avg loss: 2.079042 \n",
            "\n",
            "Test Error: \n",
            " Accuracy: 21.7%, Avg loss: 2.045923 \n",
            "\n",
            "Epoch 13\n",
            "-------------------------------\n",
            "loss: 1.966506  [10000/50000]\n",
            "loss: 2.069052  [20000/50000]\n",
            "loss: 2.035325  [30000/50000]\n",
            "loss: 2.013284  [40000/50000]\n",
            "loss: 2.059846  [50000/50000]\n",
            "Train Error: \n",
            " Accuracy: 21.8%, Avg loss: 2.054397 \n",
            "\n",
            "Test Error: \n",
            " Accuracy: 22.9%, Avg loss: 2.032086 \n",
            "\n",
            "Epoch 14\n",
            "-------------------------------\n",
            "loss: 2.057216  [10000/50000]\n",
            "loss: 1.935411  [20000/50000]\n",
            "loss: 1.981201  [30000/50000]\n",
            "loss: 1.993559  [40000/50000]\n",
            "loss: 1.962768  [50000/50000]\n",
            "Train Error: \n",
            " Accuracy: 22.6%, Avg loss: 2.038368 \n",
            "\n",
            "Test Error: \n",
            " Accuracy: 21.0%, Avg loss: 2.060615 \n",
            "\n",
            "Epoch 15\n",
            "-------------------------------\n",
            "loss: 1.923137  [10000/50000]\n",
            "loss: 1.912942  [20000/50000]\n",
            "loss: 2.088753  [30000/50000]\n",
            "loss: 2.043692  [40000/50000]\n",
            "loss: 1.841273  [50000/50000]\n",
            "Train Error: \n",
            " Accuracy: 23.9%, Avg loss: 2.017421 \n",
            "\n",
            "Test Error: \n",
            " Accuracy: 23.0%, Avg loss: 2.015764 \n",
            "\n",
            "Epoch 16\n",
            "-------------------------------\n",
            "loss: 1.973797  [10000/50000]\n",
            "loss: 2.050400  [20000/50000]\n",
            "loss: 2.094401  [30000/50000]\n",
            "loss: 1.989852  [40000/50000]\n",
            "loss: 2.101118  [50000/50000]\n",
            "Train Error: \n",
            " Accuracy: 25.1%, Avg loss: 1.991970 \n",
            "\n",
            "Test Error: \n",
            " Accuracy: 25.0%, Avg loss: 1.986069 \n",
            "\n",
            "Epoch 17\n",
            "-------------------------------\n",
            "loss: 2.094967  [10000/50000]\n",
            "loss: 2.046023  [20000/50000]\n",
            "loss: 1.941061  [30000/50000]\n",
            "loss: 1.972535  [40000/50000]\n",
            "loss: 2.010788  [50000/50000]\n",
            "Train Error: \n",
            " Accuracy: 25.7%, Avg loss: 1.971781 \n",
            "\n",
            "Test Error: \n",
            " Accuracy: 24.4%, Avg loss: 1.999439 \n",
            "\n",
            "Epoch 18\n",
            "-------------------------------\n",
            "loss: 1.851995  [10000/50000]\n",
            "loss: 1.944245  [20000/50000]\n",
            "loss: 1.990741  [30000/50000]\n",
            "loss: 1.870106  [40000/50000]\n",
            "loss: 2.026420  [50000/50000]\n",
            "Train Error: \n",
            " Accuracy: 26.5%, Avg loss: 1.953470 \n",
            "\n",
            "Test Error: \n",
            " Accuracy: 27.1%, Avg loss: 1.938528 \n",
            "\n",
            "Epoch 19\n",
            "-------------------------------\n",
            "loss: 2.021728  [10000/50000]\n",
            "loss: 1.920364  [20000/50000]\n",
            "loss: 1.910528  [30000/50000]\n",
            "loss: 1.851598  [40000/50000]\n",
            "loss: 1.977026  [50000/50000]\n",
            "Train Error: \n",
            " Accuracy: 27.9%, Avg loss: 1.928948 \n",
            "\n",
            "Test Error: \n",
            " Accuracy: 27.3%, Avg loss: 1.954472 \n",
            "\n",
            "Epoch 20\n",
            "-------------------------------\n",
            "loss: 2.085980  [10000/50000]\n",
            "loss: 1.943822  [20000/50000]\n",
            "loss: 1.915500  [30000/50000]\n",
            "loss: 1.870083  [40000/50000]\n",
            "loss: 1.849587  [50000/50000]\n",
            "Train Error: \n",
            " Accuracy: 29.0%, Avg loss: 1.906025 \n",
            "\n",
            "Test Error: \n",
            " Accuracy: 29.0%, Avg loss: 1.901212 \n",
            "\n"
          ]
        },
        {
          "data": {
            "image/png": "[encoded data removed]",
            "text/plain": [
              "<Figure size 640x480 with 2 Axes>"
            ]
          },
          "metadata": {},
          "output_type": "display_data"
        }
      ],
      "source": [
        "EPOCH = 20\n",
        "ViT_train_loss_hist,ViT_test_loss_hist,ViT_train_acc_hist,ViT_test_acc_hist = train_model(model,train_dataloader,test_dataloader,EPOCH)"
      ]
    },
    {
      "cell_type": "markdown",
      "metadata": {
        "id": "RuSlEjaeS_k7"
      },
      "source": [
        "## Comparison"
      ]
    },
    {
      "cell_type": "code",
      "execution_count": null,
      "metadata": {
        "colab": {
          "base_uri": "https://localhost:8080/",
          "height": 492
        },
        "id": "6wZQiRHDTC68",
        "outputId": "d5249cb3-07f3-4c4d-eec6-5abb18926813"
      },
      "outputs": [
        {
          "data": {
            "image/png": "[encoded data removed]",
            "text/plain": [
              "<Figure size 640x480 with 2 Axes>"
            ]
          },
          "metadata": {},
          "output_type": "display_data"
        }
      ],
      "source": [
        "# Plot loss curve\n",
        "x = range(1,EPOCH+1)\n",
        "fig, axs = plt.subplots(2)\n",
        "axs[0].plot(x, cnn_train_loss_hist,label=\"CNN Training\")\n",
        "axs[0].plot(x, cnn_test_loss_hist,label=\"CNN Validation\")\n",
        "axs[0].plot(x, ViT_train_loss_hist,label=\"ViT Training\")\n",
        "axs[0].plot(x, ViT_test_loss_hist,label=\"ViT Validation\")\n",
        "axs[0].grid()\n",
        "axs[0].set_xlabel('Epoch')\n",
        "axs[0].set_ylabel('Loss')\n",
        "axs[0].legend()\n",
        "\n",
        "# Plot accuracy curve\n",
        "axs[1].plot(x, cnn_train_acc_hist,label=\"CNN Training\")\n",
        "axs[1].plot(x, cnn_test_acc_hist,label=\"CNN Validation\")\n",
        "axs[1].plot(x, ViT_train_acc_hist,label=\"ViT Training\")\n",
        "axs[1].plot(x, ViT_test_acc_hist,label=\"ViT Validation\")\n",
        "axs[1].grid()\n",
        "axs[1].set_xlabel('Epoch')\n",
        "axs[1].set_ylabel('Accuracy')\n",
        "axs[1].legend()\n",
        "\n",
        "fig.suptitle('Learning Curves')\n",
        "fig.tight_layout()\n",
        "fig.show()"
      ]
    },
    {
      "cell_type": "markdown",
      "metadata": {
        "id": "HAdYIGJFVxA2"
      },
      "source": [
        "## Observation:\n",
        "- CNN reached an accuracy of 71% in 20 epoch whereas ViT reached an accuracy of 30% in 20 epoch.ViT does not work well with small ammount of data because of LayerNorm layer.\n",
        "- ViT took 14 mins for 20 epoch whereas CNN took 18 mins for 20 epoch. ViT is faster than CNN."
      ]
    }
  ],
  "metadata": {
    "accelerator": "GPU",
    "colab": {
      "gpuType": "T4",
      "provenance": [],
      "include_colab_link": true
    },
    "kernelspec": {
      "display_name": "Python 3",
      "name": "python3"
    },
    "language_info": {
      "name": "python"
    }
  },
  "nbformat": 4,
  "nbformat_minor": 0
}